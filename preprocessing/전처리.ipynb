{
 "cells": [
  {
   "cell_type": "code",
   "execution_count": 2,
   "metadata": {},
   "outputs": [],
   "source": [
    "##절대경로 변경\n",
    "txt = open('./Yolo_mark/x64/Release/data/train.txt','r')\n",
    "f = open('./darknet/custom/train2.txt','w')\n",
    "while True : \n",
    "    line = txt.readline()\n",
    "    if not line: \n",
    "        break \n",
    "    f.write('/home/piai/Yolo_mark/'+line) \n",
    "txt.close()\n",
    "f.close()\n",
    "\n"
   ]
  },
  {
   "cell_type": "code",
   "execution_count": 3,
   "metadata": {},
   "outputs": [],
   "source": [
    "#경로파일 생성\n",
    "f = open('./darknet/custom/train.txt','w')\n",
    "f2 = open('./Yolo_mark/x64/Release/data/train.txt','r')\n",
    "\n",
    "for i in range(1240):\n",
    "    f.write('/home/piai/Yolo_mark/x64/Release/data/tennis_ball_P/0%i.jpg\\n'%(i+1))\n",
    "    f.write('/home/piai/Yolo_mark/x64/Release/data/tennis_ball_P/speckle0%i.jpg\\n'%(i+1))\n",
    "for i in range(1130):\n",
    "    f.write('/home/piai/Yolo_mark/x64/Release/data/tennis_ball_L/0%i.jpg\\n'%(i+1))\n",
    "    f.write('/home/piai/Yolo_mark/x64/Release/data/tennis_ball_L/speckle0%i.jpg\\n'%(i+1))\n",
    "for i in range(1245):\n",
    "    f.write('/home/piai/Yolo_mark/x64/Release/data/tennis_ball_K/0%i.jpg\\n'%(i+1))\n",
    "    f.write('/home/piai/Yolo_mark/x64/Release/data/tennis_ball_K/speckle0%i.jpg\\n'%(i+1))\n",
    "    \n",
    "while True : \n",
    "    line = f2.readline()\n",
    "    if not line: \n",
    "        break \n",
    "    \n",
    "    line = line.rstrip().split('/')\n",
    "    f.write('/home/piai/Yolo_mark/x64/Release/data/images/%s\\n'%(line[4]))\n",
    "    f.write('/home/piai/Yolo_mark/x64/Release/data/images/speckle%s\\n'%(line[4]))\n",
    "    \n",
    "f.close()\n",
    "f2.close()"
   ]
  },
  {
   "cell_type": "code",
   "execution_count": 2,
   "metadata": {},
   "outputs": [],
   "source": [
    "#shuffle\n",
    "import random \n",
    "txt = open('./darknet/custom/train2.txt','r') \n",
    "f = open('./darknet/custom/train_suffle.txt','w') \n",
    "tmp = [] \n",
    "while True : \n",
    "    line = txt.readline() \n",
    "    if not line: \n",
    "        break \n",
    "    tmp.append(line) \n",
    "random.shuffle(tmp) \n",
    "for i in tmp : \n",
    "    f.write(i) \n",
    "txt.close() \n",
    "f.close()\n",
    "\n"
   ]
  },
  {
   "cell_type": "code",
   "execution_count": 3,
   "metadata": {},
   "outputs": [],
   "source": [
    "#train test split\n",
    "count = 0 \n",
    "length = 3615\n",
    "#total line \n",
    "txt = open('./darknet/custom/train_suffle.txt','r') \n",
    "i = 0 \n",
    "f = open('./darknet/custom/train2.txt','w') \n",
    "f2 = open('./darknet/custom/validation.txt','w') \n",
    "while True :\n",
    "    if i == 0 :\n",
    "        line = txt.readline()\n",
    "        if not line :\n",
    "            break \n",
    "        count +=1 \n",
    "        if count < int(length/10)*2 : \n",
    "            f2.write(line) \n",
    "        else : \n",
    "            f.write(line) \n",
    "txt.close() \n",
    "f.close() \n",
    "f2.close()\n"
   ]
  },
  {
   "cell_type": "code",
   "execution_count": null,
   "metadata": {},
   "outputs": [],
   "source": []
  }
 ],
 "metadata": {
  "kernelspec": {
   "display_name": "Python 3",
   "language": "python",
   "name": "python3"
  },
  "language_info": {
   "codemirror_mode": {
    "name": "ipython",
    "version": 3
   },
   "file_extension": ".py",
   "mimetype": "text/x-python",
   "name": "python",
   "nbconvert_exporter": "python",
   "pygments_lexer": "ipython3",
   "version": "3.8.5"
  }
 },
 "nbformat": 4,
 "nbformat_minor": 4
}
