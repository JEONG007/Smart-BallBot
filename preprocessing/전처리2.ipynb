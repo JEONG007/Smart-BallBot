{
 "cells": [
  {
   "cell_type": "code",
   "execution_count": 49,
   "metadata": {},
   "outputs": [],
   "source": [
    "##절대경로 변경\n",
    "txt = open('../opencv/opencv-4.2.0/build/darknet/custom/train.txt','r')\n",
    "f = open('../opencv/opencv-4.2.0/build/darknet/custom/train2.txt','w')\n",
    "while True : \n",
    "    line = txt.readline()\n",
    "    if not line: \n",
    "        break \n",
    "    f.write('/home/piai/opencv/opencv-4.2.0/build/Yolo_mark/'+line) \n",
    "txt.close()\n",
    "f.close()\n",
    "\n"
   ]
  },
  {
   "cell_type": "code",
   "execution_count": 50,
   "metadata": {},
   "outputs": [],
   "source": [
    "import random \n",
    "txt = open('../opencv/opencv-4.2.0/build/darknet/custom/train2.txt','r') \n",
    "f = open('../opencv/opencv-4.2.0/build/darknet/custom/train_suffle.txt','w') \n",
    "tmp = [] \n",
    "while True : \n",
    "    line = txt.readline() \n",
    "    if not line: \n",
    "        break \n",
    "    tmp.append(line) \n",
    "random.shuffle(tmp) \n",
    "for i in tmp : \n",
    "    f.write(i) \n",
    "txt.close() \n",
    "f.close()\n",
    "\n"
   ]
  },
  {
   "cell_type": "code",
   "execution_count": 51,
   "metadata": {},
   "outputs": [],
   "source": [
    "count = 0 \n",
    "length = 1130 \n",
    "#total line \n",
    "txt = open('../opencv/opencv-4.2.0/build/darknet/custom/train_suffle.txt','r') \n",
    "i = 0 \n",
    "f = open('../opencv/opencv-4.2.0/build/darknet/custom/train2.txt','w') \n",
    "f2 = open('../opencv/opencv-4.2.0/build/darknet/custom/validation.txt','w') \n",
    "while True :\n",
    "    if i == 0 :\n",
    "        line = txt.readline()\n",
    "        if not line :\n",
    "            break \n",
    "        count +=1 \n",
    "        if count < int(length/10)*2 : \n",
    "            f2.write(line) \n",
    "        else : \n",
    "            f.write(line) \n",
    "txt.close() \n",
    "f.close() \n",
    "f2.close()\n"
   ]
  },
  {
   "cell_type": "code",
   "execution_count": null,
   "metadata": {},
   "outputs": [],
   "source": []
  }
 ],
 "metadata": {
  "kernelspec": {
   "display_name": "Python 3",
   "language": "python",
   "name": "python3"
  },
  "language_info": {
   "codemirror_mode": {
    "name": "ipython",
    "version": 3
   },
   "file_extension": ".py",
   "mimetype": "text/x-python",
   "name": "python",
   "nbconvert_exporter": "python",
   "pygments_lexer": "ipython3",
   "version": "3.8.5"
  }
 },
 "nbformat": 4,
 "nbformat_minor": 4
}
